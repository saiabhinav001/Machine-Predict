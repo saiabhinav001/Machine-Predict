# Import necessary libraries
import pandas as pd
import numpy as np
import matplotlib.pyplot as plt
import seaborn as sns
import plotly.express as px
import plotly.graph_objects as go
from plotly.subplots import make_subplots
import warnings
warnings.filterwarnings('ignore')

# Machine Learning libraries
from sklearn.model_selection import train_test_split, StratifiedKFold, GridSearchCV, cross_val_score
from sklearn.preprocessing import StandardScaler, LabelEncoder, MinMaxScaler
from sklearn.metrics import classification_report, confusion_matrix, accuracy_score, roc_auc_score
from sklearn.metrics import precision_score, recall_score, f1_score, roc_curve, auc
from sklearn.ensemble import RandomForestClassifier
from sklearn.decomposition import PCA
from imblearn.over_sampling import SMOTE

# Advanced ML models
import xgboost as xgb
import lightgbm as lgb
import optuna

# Model persistence
import joblib
import pickle

# Set style and random seed
plt.style.use('seaborn-v0_8')
np.random.seed(42)

print("All libraries imported successfully!")# Predictive Maintenance of Industrial Machinery - ML Classification System

This notebook implements a comprehensive machine learning pipeline for predicting machinery failure types using sensor data.

## Table of Contents
1. [Data Loading and Initial Exploration](#1-data-loading-and-initial-exploration)
2. [Data Preprocessing and Cleaning](#2-data-preprocessing-and-cleaning)
3. [Exploratory Data Analysis (EDA)](#3-exploratory-data-analysis-eda)
4. [Feature Engineering](#4-feature-engineering)
5. [Model Development and Training](#5-model-development-and-training)
6. [Model Evaluation](#6-model-evaluation)
7. [Model Saving and Export](#7-model-saving-and-export)